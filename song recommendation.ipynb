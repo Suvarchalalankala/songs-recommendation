{
 "cells": [
  {
   "cell_type": "code",
   "execution_count": 27,
   "id": "2720778b-2de8-4770-806e-4f2a517b78eb",
   "metadata": {},
   "outputs": [],
   "source": [
    "import numpy as np\n",
    "import pandas as pd"
   ]
  },
  {
   "cell_type": "code",
   "execution_count": 28,
   "id": "c93c0650-d5e2-4301-b359-56ab4d269ec9",
   "metadata": {},
   "outputs": [],
   "source": [
    "df= pd.read_csv(\"C:\\\\Users\\\\SUVARCHALA\\\\OneDrive\\\\Documents\\\\spotify data.csv\")"
   ]
  },
  {
   "cell_type": "code",
   "execution_count": 29,
   "id": "5f2fc85e-06bf-4d8e-8e64-e3c6072ff396",
   "metadata": {},
   "outputs": [
    {
     "data": {
      "text/html": [
       "<div>\n",
       "<style scoped>\n",
       "    .dataframe tbody tr th:only-of-type {\n",
       "        vertical-align: middle;\n",
       "    }\n",
       "\n",
       "    .dataframe tbody tr th {\n",
       "        vertical-align: top;\n",
       "    }\n",
       "\n",
       "    .dataframe thead th {\n",
       "        text-align: right;\n",
       "    }\n",
       "</style>\n",
       "<table border=\"1\" class=\"dataframe\">\n",
       "  <thead>\n",
       "    <tr style=\"text-align: right;\">\n",
       "      <th></th>\n",
       "      <th>artist</th>\n",
       "      <th>song</th>\n",
       "      <th>link</th>\n",
       "      <th>text</th>\n",
       "    </tr>\n",
       "  </thead>\n",
       "  <tbody>\n",
       "    <tr>\n",
       "      <th>0</th>\n",
       "      <td>ABBA</td>\n",
       "      <td>Ahe's My Kind Of Girl</td>\n",
       "      <td>/a/abba/ahes+my+kind+of+girl_20598417.html</td>\n",
       "      <td>Look at her face, it's a wonderful face  \\r\\nA...</td>\n",
       "    </tr>\n",
       "    <tr>\n",
       "      <th>1</th>\n",
       "      <td>ABBA</td>\n",
       "      <td>Andante, Andante</td>\n",
       "      <td>/a/abba/andante+andante_20002708.html</td>\n",
       "      <td>Take it easy with me, please  \\r\\nTouch me gen...</td>\n",
       "    </tr>\n",
       "    <tr>\n",
       "      <th>2</th>\n",
       "      <td>ABBA</td>\n",
       "      <td>As Good As New</td>\n",
       "      <td>/a/abba/as+good+as+new_20003033.html</td>\n",
       "      <td>I'll never know why I had to go  \\r\\nWhy I had...</td>\n",
       "    </tr>\n",
       "    <tr>\n",
       "      <th>3</th>\n",
       "      <td>ABBA</td>\n",
       "      <td>Bang</td>\n",
       "      <td>/a/abba/bang_20598415.html</td>\n",
       "      <td>Making somebody happy is a question of give an...</td>\n",
       "    </tr>\n",
       "    <tr>\n",
       "      <th>4</th>\n",
       "      <td>ABBA</td>\n",
       "      <td>Bang-A-Boomerang</td>\n",
       "      <td>/a/abba/bang+a+boomerang_20002668.html</td>\n",
       "      <td>Making somebody happy is a question of give an...</td>\n",
       "    </tr>\n",
       "  </tbody>\n",
       "</table>\n",
       "</div>"
      ],
      "text/plain": [
       "  artist                   song                                        link  \\\n",
       "0   ABBA  Ahe's My Kind Of Girl  /a/abba/ahes+my+kind+of+girl_20598417.html   \n",
       "1   ABBA       Andante, Andante       /a/abba/andante+andante_20002708.html   \n",
       "2   ABBA         As Good As New        /a/abba/as+good+as+new_20003033.html   \n",
       "3   ABBA                   Bang                  /a/abba/bang_20598415.html   \n",
       "4   ABBA       Bang-A-Boomerang      /a/abba/bang+a+boomerang_20002668.html   \n",
       "\n",
       "                                                text  \n",
       "0  Look at her face, it's a wonderful face  \\r\\nA...  \n",
       "1  Take it easy with me, please  \\r\\nTouch me gen...  \n",
       "2  I'll never know why I had to go  \\r\\nWhy I had...  \n",
       "3  Making somebody happy is a question of give an...  \n",
       "4  Making somebody happy is a question of give an...  "
      ]
     },
     "execution_count": 29,
     "metadata": {},
     "output_type": "execute_result"
    }
   ],
   "source": [
    "df.head()"
   ]
  },
  {
   "cell_type": "code",
   "execution_count": 30,
   "id": "c8903fe1-0606-4d59-9b73-adbcc6c0211f",
   "metadata": {},
   "outputs": [
    {
     "data": {
      "text/html": [
       "<div>\n",
       "<style scoped>\n",
       "    .dataframe tbody tr th:only-of-type {\n",
       "        vertical-align: middle;\n",
       "    }\n",
       "\n",
       "    .dataframe tbody tr th {\n",
       "        vertical-align: top;\n",
       "    }\n",
       "\n",
       "    .dataframe thead th {\n",
       "        text-align: right;\n",
       "    }\n",
       "</style>\n",
       "<table border=\"1\" class=\"dataframe\">\n",
       "  <thead>\n",
       "    <tr style=\"text-align: right;\">\n",
       "      <th></th>\n",
       "      <th>artist</th>\n",
       "      <th>song</th>\n",
       "      <th>link</th>\n",
       "      <th>text</th>\n",
       "    </tr>\n",
       "  </thead>\n",
       "  <tbody>\n",
       "    <tr>\n",
       "      <th>57645</th>\n",
       "      <td>Ziggy Marley</td>\n",
       "      <td>Good Old Days</td>\n",
       "      <td>/z/ziggy+marley/good+old+days_10198588.html</td>\n",
       "      <td>Irie days come on play  \\r\\nLet the angels fly...</td>\n",
       "    </tr>\n",
       "    <tr>\n",
       "      <th>57646</th>\n",
       "      <td>Ziggy Marley</td>\n",
       "      <td>Hand To Mouth</td>\n",
       "      <td>/z/ziggy+marley/hand+to+mouth_20531167.html</td>\n",
       "      <td>Power to the workers  \\r\\nMore power  \\r\\nPowe...</td>\n",
       "    </tr>\n",
       "    <tr>\n",
       "      <th>57647</th>\n",
       "      <td>Zwan</td>\n",
       "      <td>Come With Me</td>\n",
       "      <td>/z/zwan/come+with+me_20148981.html</td>\n",
       "      <td>all you need  \\r\\nis something i'll believe  \\...</td>\n",
       "    </tr>\n",
       "    <tr>\n",
       "      <th>57648</th>\n",
       "      <td>Zwan</td>\n",
       "      <td>Desire</td>\n",
       "      <td>/z/zwan/desire_20148986.html</td>\n",
       "      <td>northern star  \\r\\nam i frightened  \\r\\nwhere ...</td>\n",
       "    </tr>\n",
       "    <tr>\n",
       "      <th>57649</th>\n",
       "      <td>Zwan</td>\n",
       "      <td>Heartsong</td>\n",
       "      <td>/z/zwan/heartsong_20148991.html</td>\n",
       "      <td>come in  \\r\\nmake yourself at home  \\r\\ni'm a ...</td>\n",
       "    </tr>\n",
       "  </tbody>\n",
       "</table>\n",
       "</div>"
      ],
      "text/plain": [
       "             artist           song  \\\n",
       "57645  Ziggy Marley  Good Old Days   \n",
       "57646  Ziggy Marley  Hand To Mouth   \n",
       "57647          Zwan   Come With Me   \n",
       "57648          Zwan         Desire   \n",
       "57649          Zwan      Heartsong   \n",
       "\n",
       "                                              link  \\\n",
       "57645  /z/ziggy+marley/good+old+days_10198588.html   \n",
       "57646  /z/ziggy+marley/hand+to+mouth_20531167.html   \n",
       "57647           /z/zwan/come+with+me_20148981.html   \n",
       "57648                 /z/zwan/desire_20148986.html   \n",
       "57649              /z/zwan/heartsong_20148991.html   \n",
       "\n",
       "                                                    text  \n",
       "57645  Irie days come on play  \\r\\nLet the angels fly...  \n",
       "57646  Power to the workers  \\r\\nMore power  \\r\\nPowe...  \n",
       "57647  all you need  \\r\\nis something i'll believe  \\...  \n",
       "57648  northern star  \\r\\nam i frightened  \\r\\nwhere ...  \n",
       "57649  come in  \\r\\nmake yourself at home  \\r\\ni'm a ...  "
      ]
     },
     "execution_count": 30,
     "metadata": {},
     "output_type": "execute_result"
    }
   ],
   "source": [
    "df.tail()"
   ]
  },
  {
   "cell_type": "code",
   "execution_count": 31,
   "id": "c239cc0d-cdd0-44e7-a199-54ed8d9706da",
   "metadata": {},
   "outputs": [
    {
     "data": {
      "text/plain": [
       "(57650, 4)"
      ]
     },
     "execution_count": 31,
     "metadata": {},
     "output_type": "execute_result"
    }
   ],
   "source": [
    "df.shape"
   ]
  },
  {
   "cell_type": "code",
   "execution_count": 32,
   "id": "b89d3f2b-27f4-4200-9e4f-ac12cc482b66",
   "metadata": {},
   "outputs": [],
   "source": [
    "df= pd.DataFrame(data=df,columns=df.columns)"
   ]
  },
  {
   "cell_type": "code",
   "execution_count": 33,
   "id": "fd11f440-6c9d-4e24-8d94-d5375e57da0a",
   "metadata": {},
   "outputs": [
    {
     "data": {
      "text/html": [
       "<div>\n",
       "<style scoped>\n",
       "    .dataframe tbody tr th:only-of-type {\n",
       "        vertical-align: middle;\n",
       "    }\n",
       "\n",
       "    .dataframe tbody tr th {\n",
       "        vertical-align: top;\n",
       "    }\n",
       "\n",
       "    .dataframe thead th {\n",
       "        text-align: right;\n",
       "    }\n",
       "</style>\n",
       "<table border=\"1\" class=\"dataframe\">\n",
       "  <thead>\n",
       "    <tr style=\"text-align: right;\">\n",
       "      <th></th>\n",
       "      <th>artist</th>\n",
       "      <th>song</th>\n",
       "      <th>link</th>\n",
       "      <th>text</th>\n",
       "    </tr>\n",
       "  </thead>\n",
       "  <tbody>\n",
       "    <tr>\n",
       "      <th>count</th>\n",
       "      <td>57650</td>\n",
       "      <td>57650</td>\n",
       "      <td>57650</td>\n",
       "      <td>57650</td>\n",
       "    </tr>\n",
       "    <tr>\n",
       "      <th>unique</th>\n",
       "      <td>643</td>\n",
       "      <td>44824</td>\n",
       "      <td>57650</td>\n",
       "      <td>57494</td>\n",
       "    </tr>\n",
       "    <tr>\n",
       "      <th>top</th>\n",
       "      <td>Donna Summer</td>\n",
       "      <td>Have Yourself A Merry Little Christmas</td>\n",
       "      <td>/a/abba/ahes+my+kind+of+girl_20598417.html</td>\n",
       "      <td>I just came back from a lovely trip along the ...</td>\n",
       "    </tr>\n",
       "    <tr>\n",
       "      <th>freq</th>\n",
       "      <td>191</td>\n",
       "      <td>35</td>\n",
       "      <td>1</td>\n",
       "      <td>6</td>\n",
       "    </tr>\n",
       "  </tbody>\n",
       "</table>\n",
       "</div>"
      ],
      "text/plain": [
       "              artist                                    song  \\\n",
       "count          57650                                   57650   \n",
       "unique           643                                   44824   \n",
       "top     Donna Summer  Have Yourself A Merry Little Christmas   \n",
       "freq             191                                      35   \n",
       "\n",
       "                                              link  \\\n",
       "count                                        57650   \n",
       "unique                                       57650   \n",
       "top     /a/abba/ahes+my+kind+of+girl_20598417.html   \n",
       "freq                                             1   \n",
       "\n",
       "                                                     text  \n",
       "count                                               57650  \n",
       "unique                                              57494  \n",
       "top     I just came back from a lovely trip along the ...  \n",
       "freq                                                    6  "
      ]
     },
     "execution_count": 33,
     "metadata": {},
     "output_type": "execute_result"
    }
   ],
   "source": [
    "df.describe()"
   ]
  },
  {
   "cell_type": "code",
   "execution_count": 34,
   "id": "1c5d8baa-276a-4472-b84e-7b46affa75d9",
   "metadata": {},
   "outputs": [],
   "source": [
    "df[\"artist\"] = df[\"artist\"].str.lower()\n",
    "df[\"song\"]= df[\"song\"].str.lower()\n",
    "df[\"text\"]= df[\"text\"].str.lower()\n"
   ]
  },
  {
   "cell_type": "code",
   "execution_count": 35,
   "id": "f98b0f44-a24a-49ce-817a-d522f65c129d",
   "metadata": {},
   "outputs": [
    {
     "data": {
      "text/html": [
       "<div>\n",
       "<style scoped>\n",
       "    .dataframe tbody tr th:only-of-type {\n",
       "        vertical-align: middle;\n",
       "    }\n",
       "\n",
       "    .dataframe tbody tr th {\n",
       "        vertical-align: top;\n",
       "    }\n",
       "\n",
       "    .dataframe thead th {\n",
       "        text-align: right;\n",
       "    }\n",
       "</style>\n",
       "<table border=\"1\" class=\"dataframe\">\n",
       "  <thead>\n",
       "    <tr style=\"text-align: right;\">\n",
       "      <th></th>\n",
       "      <th>artist</th>\n",
       "      <th>song</th>\n",
       "      <th>link</th>\n",
       "      <th>text</th>\n",
       "    </tr>\n",
       "  </thead>\n",
       "  <tbody>\n",
       "    <tr>\n",
       "      <th>0</th>\n",
       "      <td>abba</td>\n",
       "      <td>ahe's my kind of girl</td>\n",
       "      <td>/a/abba/ahes+my+kind+of+girl_20598417.html</td>\n",
       "      <td>look at her face, it's a wonderful face  \\r\\na...</td>\n",
       "    </tr>\n",
       "    <tr>\n",
       "      <th>1</th>\n",
       "      <td>abba</td>\n",
       "      <td>andante, andante</td>\n",
       "      <td>/a/abba/andante+andante_20002708.html</td>\n",
       "      <td>take it easy with me, please  \\r\\ntouch me gen...</td>\n",
       "    </tr>\n",
       "    <tr>\n",
       "      <th>2</th>\n",
       "      <td>abba</td>\n",
       "      <td>as good as new</td>\n",
       "      <td>/a/abba/as+good+as+new_20003033.html</td>\n",
       "      <td>i'll never know why i had to go  \\r\\nwhy i had...</td>\n",
       "    </tr>\n",
       "    <tr>\n",
       "      <th>3</th>\n",
       "      <td>abba</td>\n",
       "      <td>bang</td>\n",
       "      <td>/a/abba/bang_20598415.html</td>\n",
       "      <td>making somebody happy is a question of give an...</td>\n",
       "    </tr>\n",
       "    <tr>\n",
       "      <th>4</th>\n",
       "      <td>abba</td>\n",
       "      <td>bang-a-boomerang</td>\n",
       "      <td>/a/abba/bang+a+boomerang_20002668.html</td>\n",
       "      <td>making somebody happy is a question of give an...</td>\n",
       "    </tr>\n",
       "  </tbody>\n",
       "</table>\n",
       "</div>"
      ],
      "text/plain": [
       "  artist                   song                                        link  \\\n",
       "0   abba  ahe's my kind of girl  /a/abba/ahes+my+kind+of+girl_20598417.html   \n",
       "1   abba       andante, andante       /a/abba/andante+andante_20002708.html   \n",
       "2   abba         as good as new        /a/abba/as+good+as+new_20003033.html   \n",
       "3   abba                   bang                  /a/abba/bang_20598415.html   \n",
       "4   abba       bang-a-boomerang      /a/abba/bang+a+boomerang_20002668.html   \n",
       "\n",
       "                                                text  \n",
       "0  look at her face, it's a wonderful face  \\r\\na...  \n",
       "1  take it easy with me, please  \\r\\ntouch me gen...  \n",
       "2  i'll never know why i had to go  \\r\\nwhy i had...  \n",
       "3  making somebody happy is a question of give an...  \n",
       "4  making somebody happy is a question of give an...  "
      ]
     },
     "execution_count": 35,
     "metadata": {},
     "output_type": "execute_result"
    }
   ],
   "source": [
    "df.head()"
   ]
  },
  {
   "cell_type": "code",
   "execution_count": 36,
   "id": "31f1cab0-3ba5-4fb3-9bc2-7e96aca6e0c2",
   "metadata": {},
   "outputs": [
    {
     "data": {
      "text/plain": [
       "\"take it easy with me, please  \\r\\ntouch me gently like a summer evening breeze  \\r\\ntake your time, make it slow  \\r\\nandante, andante  \\r\\njust let the feeling grow  \\r\\n  \\r\\nmake your fingers soft and light  \\r\\nlet your body be the velvet of the night  \\r\\ntouch my soul, you know how  \\r\\nandante, andante  \\r\\ngo slowly with me now  \\r\\n  \\r\\ni'm your music  \\r\\n(i am your music and i am your song)  \\r\\ni'm your song  \\r\\n(i am your music and i am your song)  \\r\\nplay me time and time again and make me strong  \\r\\n(play me again 'cause you're making me strong)  \\r\\nmake me sing, make me sound  \\r\\n(you make me sing and you make me)  \\r\\nandante, andante  \\r\\ntread lightly on my ground  \\r\\nandante, andante  \\r\\noh please don't let me down  \\r\\n  \\r\\nthere's a shimmer in your eyes  \\r\\nlike the feeling of a thousand butterflies  \\r\\nplease don't talk, go on, play  \\r\\nandante, andante  \\r\\nand let me float away  \\r\\n  \\r\\ni'm your music  \\r\\n(i am your music and i am your song)  \\r\\ni'm your song  \\r\\n(i am your music and i am your song)  \\r\\nplay me time and time again and make me strong  \\r\\n(play me again 'cause you're making me strong)  \\r\\nmake me sing, make me sound  \\r\\n(you make me sing and you make me)  \\r\\nandante, andante  \\r\\ntread lightly on my ground  \\r\\nandante, andante  \\r\\noh please don't let me down  \\r\\n  \\r\\nmake me sing, make me sound  \\r\\n(you make me sing and you make me)  \\r\\nandante, andante  \\r\\ntread lightly on my ground  \\r\\nandante, andante  \\r\\noh please don't let me down  \\r\\nandante, andante  \\r\\noh please don't let me down\\r\\n\\r\\n\""
      ]
     },
     "execution_count": 36,
     "metadata": {},
     "output_type": "execute_result"
    }
   ],
   "source": [
    "df[\"text\"][1]"
   ]
  },
  {
   "cell_type": "code",
   "execution_count": 37,
   "id": "21b77a77-d62b-419f-85ba-b6cd83b06647",
   "metadata": {},
   "outputs": [],
   "source": [
    "df[\"text\"]= df[\"text\"].replace(r'\\r\\n',' ',regex=True) \n",
    "df[\"text\"]=df[\"text\"].replace(r',','',regex=True)"
   ]
  },
  {
   "cell_type": "code",
   "execution_count": 38,
   "id": "8fde202d-8670-48e0-b33a-7b0b0679ddac",
   "metadata": {},
   "outputs": [
    {
     "data": {
      "text/plain": [
       "\"take it easy with me please   touch me gently like a summer evening breeze   take your time make it slow   andante andante   just let the feeling grow      make your fingers soft and light   let your body be the velvet of the night   touch my soul you know how   andante andante   go slowly with me now      i'm your music   (i am your music and i am your song)   i'm your song   (i am your music and i am your song)   play me time and time again and make me strong   (play me again 'cause you're making me strong)   make me sing make me sound   (you make me sing and you make me)   andante andante   tread lightly on my ground   andante andante   oh please don't let me down      there's a shimmer in your eyes   like the feeling of a thousand butterflies   please don't talk go on play   andante andante   and let me float away      i'm your music   (i am your music and i am your song)   i'm your song   (i am your music and i am your song)   play me time and time again and make me strong   (play me again 'cause you're making me strong)   make me sing make me sound   (you make me sing and you make me)   andante andante   tread lightly on my ground   andante andante   oh please don't let me down      make me sing make me sound   (you make me sing and you make me)   andante andante   tread lightly on my ground   andante andante   oh please don't let me down   andante andante   oh please don't let me down  \""
      ]
     },
     "execution_count": 38,
     "metadata": {},
     "output_type": "execute_result"
    }
   ],
   "source": [
    "df[\"text\"][1]"
   ]
  },
  {
   "cell_type": "code",
   "execution_count": 39,
   "id": "d8f5d6d9-7b7d-48be-ad32-10229cd51173",
   "metadata": {},
   "outputs": [
    {
     "name": "stdout",
     "output_type": "stream",
     "text": [
      "{'his', 'same', 'yourselves', 'be', 'does', \"she's\", 'both', 'll', 'am', 'hadn', \"mustn't\", 'theirs', 'couldn', 'don', \"aren't\", 'so', 'to', 'won', 'yourself', 'as', 'how', 'until', 'by', \"shan't\", 'those', 'into', 're', \"that'll\", 'only', 'up', \"wasn't\", 'mightn', 'at', 's', 'under', 'on', 'there', 'where', 'had', 'do', \"wouldn't\", 'has', 'and', 'myself', 'my', 'of', 'wouldn', 'all', 'because', 'just', 'from', 'are', 'ours', 't', 'they', 'needn', 'in', 'i', 'herself', 'very', 'few', 'most', 'them', \"isn't\", 'not', \"weren't\", 'shan', 'wasn', 'd', 'why', 'our', 'further', \"it's\", 'too', \"doesn't\", \"shouldn't\", 'yours', 'is', 'off', 'after', 'mustn', 'should', 'its', 'did', 'm', 'but', 'other', 'out', 'about', 'he', 'which', 'themselves', 'during', 'against', 'ma', 'below', 'these', 'down', 'such', 'some', \"hasn't\", \"haven't\", 'o', 'own', 'will', 'that', \"should've\", 'were', 'here', 'can', \"you'll\", 'who', 'didn', 'again', 'shouldn', 'you', 'her', 'when', \"mightn't\", 'she', 'being', \"won't\", 'haven', 'an', 'been', 'having', 'while', 'isn', 'any', 'nor', \"couldn't\", \"you'd\", 'this', 'or', 'through', 'then', 'above', 'whom', 'it', 'doesn', 'ain', \"you're\", \"hadn't\", 'him', 'y', 'for', 'we', 'if', 'me', 'than', 'now', 'the', \"needn't\", 'himself', 'each', 'hasn', 'doing', 'a', 'over', 'no', 've', 'was', 'before', 'once', 'your', 'more', 'ourselves', \"don't\", 'with', \"you've\", 'hers', 'between', \"didn't\", 'what', 'itself', 'have', 'aren', 'their', 'weren'}\n"
     ]
    },
    {
     "name": "stderr",
     "output_type": "stream",
     "text": [
      "[nltk_data] Downloading package stopwords to\n",
      "[nltk_data]     C:\\Users\\SUVARCHALA\\AppData\\Roaming\\nltk_data...\n",
      "[nltk_data]   Package stopwords is already up-to-date!\n",
      "[nltk_data] Downloading package wordnet to\n",
      "[nltk_data]     C:\\Users\\SUVARCHALA\\AppData\\Roaming\\nltk_data...\n",
      "[nltk_data]   Package wordnet is already up-to-date!\n"
     ]
    }
   ],
   "source": [
    "import nltk\n",
    "from nltk.corpus import stopwords\n",
    "from nltk.stem import WordNetLemmatizer\n",
    "\n",
    "nltk.download('stopwords')\n",
    "nltk.download('wordnet')\n",
    "\n",
    "stop_words = set(stopwords.words('english'))\n",
    "lemmatizer = WordNetLemmatizer()\n",
    "print(stop_words)"
   ]
  },
  {
   "cell_type": "code",
   "execution_count": 40,
   "id": "0053f444-8695-45c8-88ca-42428d69aa67",
   "metadata": {},
   "outputs": [
    {
     "data": {
      "text/plain": [
       "(10000, 4)"
      ]
     },
     "execution_count": 40,
     "metadata": {},
     "output_type": "execute_result"
    }
   ],
   "source": [
    "df = df.head(10000) # considering 10000 samples to analysis \n",
    "df.shape"
   ]
  },
  {
   "cell_type": "code",
   "execution_count": 41,
   "id": "a3b4e92f-776d-4bca-a408-90597c4b05ec",
   "metadata": {},
   "outputs": [
    {
     "name": "stderr",
     "output_type": "stream",
     "text": [
      "[nltk_data] Downloading package punkt to\n",
      "[nltk_data]     C:\\Users\\SUVARCHALA\\AppData\\Roaming\\nltk_data...\n",
      "[nltk_data]   Package punkt is already up-to-date!\n"
     ]
    }
   ],
   "source": [
    "import nltk\n",
    "nltk.download('punkt')\n",
    "from nltk.corpus import stopwords\n",
    "from nltk.stem import WordNetLemmatizer\n",
    "\n",
    "def preprocess_text(text):\n",
    "    # Tokenize and remove stop_words from the text\n",
    "    tokens = nltk.word_tokenize(text)\n",
    "    filtered_words = [word for word in tokens if word not in stop_words]\n",
    "    # Lemmatize words (changing every word to its root once)\n",
    "    lemmatized_words = [lemmatizer.lemmatize(word) for word in filtered_words]\n",
    "    return \" \".join(lemmatized_words)\n",
    "\n",
    "# Apply preprocessing function to the \"text\" column of your DataFrame\n",
    "df[\"text\"] = df[\"text\"].apply(preprocess_text)"
   ]
  },
  {
   "cell_type": "code",
   "execution_count": 42,
   "id": "6fb409be-a28a-4609-b7e4-aede8833368e",
   "metadata": {},
   "outputs": [
    {
     "name": "stdout",
     "output_type": "stream",
     "text": [
      "[[0.         0.         0.         ... 0.         0.         0.        ]\n",
      " [0.         0.         0.         ... 0.         0.         0.        ]\n",
      " [0.         0.         0.         ... 0.         0.         0.        ]\n",
      " ...\n",
      " [0.         0.         0.         ... 0.         0.         0.        ]\n",
      " [0.         0.         0.         ... 0.         0.         0.        ]\n",
      " [0.         0.         0.         ... 0.         0.         0.15047102]]\n",
      "(10000, 1000)\n",
      "TfidfVectorizer(max_features=1000)\n"
     ]
    }
   ],
   "source": [
    "from sklearn.feature_extraction.text import TfidfVectorizer\n",
    "\n",
    "tfidf = TfidfVectorizer(max_features=1000)\n",
    "X_tfidf = tfidf.fit_transform(df['text']).toarray()\n",
    "print(X_tfidf)\n",
    "print(X_tfidf.shape)\n",
    "print(tfidf)"
   ]
  },
  {
   "cell_type": "code",
   "execution_count": 43,
   "id": "5de14a2c-09f5-4c4c-89d9-b85c9bb60468",
   "metadata": {},
   "outputs": [],
   "source": [
    "mood_categories = ['love', 'sad', 'romantic', 'pop'] \n",
    "\n",
    "def categorize_sentiment(sentiment_polarity):\n",
    "    if sentiment_polarity >= 0.6:\n",
    "        return 'love'\n",
    "    elif 0.2 <= sentiment_polarity < 0.6:\n",
    "        return 'romantic'\n",
    "    elif -0.2 <= sentiment_polarity < 0.2:\n",
    "        return 'neutral'\n",
    "    elif -0.6 <= sentiment_polarity < -0.2:\n",
    "        return 'sad'\n",
    "    else:\n",
    "        return 'pop'\n",
    "    "
   ]
  },
  {
   "cell_type": "code",
   "execution_count": 44,
   "id": "6380b840-828a-4341-916f-b176e5e1fbfe",
   "metadata": {},
   "outputs": [],
   "source": [
    "from textblob import TextBlob\n",
    "# define a function to analyze sentiment of each song\n",
    "def analyze_sentiment(text):\n",
    "    blob = TextBlob(text)\n",
    "    sentiment_polarity = blob.sentiment.polarity\n",
    "    return categorize_sentiment(sentiment_polarity)\n",
    "\n",
    "# Apply sentiment analysis to the lyrics column and\n",
    "#create a new column for sentiment categories(love or sad or pop)\n",
    "\n",
    "df[\"sentiment_category\"] = df[\"text\"].apply(analyze_sentiment)"
   ]
  },
  {
   "cell_type": "code",
   "execution_count": 45,
   "id": "1315c723-3d93-4177-9ef6-0fcface47f72",
   "metadata": {},
   "outputs": [],
   "source": [
    "def percentage_sentiment(text):\n",
    "    blob = TextBlob(text)\n",
    "    sentiment_polarity = blob.sentiment.polarity\n",
    "    return sentiment_polarity\n",
    "\n",
    "df[\"%sentiment\"] = df[\"text\"].apply(percentage_sentiment)\n",
    "\n",
    "df.rename(columns={'sentiment_category' : 'mood',\"song\" : \"song_name\"}, inplace=True)\n",
    "\n"
   ]
  },
  {
   "cell_type": "code",
   "execution_count": 46,
   "id": "ca804e28-5a38-4a52-9892-ae9aa2f06697",
   "metadata": {},
   "outputs": [],
   "source": [
    "def preprocess_df(df):\n",
    "    # Shorten DataFrame based on %sentiment\n",
    "    df = df.sort_values(by='%sentiment')\n",
    "    df = df.head(3000)  # Assuming you want to work with the top 3000 sentiment rows\n",
    "    return df\n",
    "\n",
    "def adjust_sentiment_for_sad(df):\n",
    "    # Multiply %sentiment by -1 for rows where sentiment_category is \"sad\"(more the -ve value ->good rating one )\n",
    "    df.loc[df['mood'] == 'sad', '%sentiment'] *= -1\n",
    "    return df\n",
    "\n",
    "def recommend_songs(df, input_criteria):\n",
    "    # Preprocess DataFrame\n",
    "    df = preprocess_df(df)\n",
    "    # Adjust sentiment for \"sad\" mood\n",
    "    df = adjust_sentiment_for_sad(df)\n",
    "    \n",
    "    # Case 1: If song name is given\n",
    "    if 'song_name' in input_criteria:\n",
    "        song_name = input_criteria['song_name']\n",
    "        target_sentiment = df[df['song_name'] == song_name]['%sentiment'].iloc[0]\n",
    "        recommended_songs = df.iloc[(df['%sentiment'] - target_sentiment).abs().argsort()[:10]]['song_name'].tolist()\n",
    "        return recommended_songs\n",
    "    \n",
    "    # Case 2: If only mood is given\n",
    "    elif 'mood' in input_criteria:\n",
    "        mood = input_criteria['mood']\n",
    "        mood_df = df[df['mood'] == mood]\n",
    "        recommended_songs = mood_df.sort_values(by='%sentiment', ascending=False).head(10)['song_name'].tolist()\n",
    "        return recommended_songs\n",
    "    \n",
    "    # Case 3: If artist name is given\n",
    "    elif 'artist' in input_criteria:\n",
    "        artist_name = input_criteria['artist']\n",
    "        artist_df = df[df['artist'] == artist_name]\n",
    "        recommended_songs = artist_df.sort_values(by='%sentiment', ascending=False).head(10)['song_name'].tolist()\n",
    "        return recommended_songs\n",
    "    \n",
    "    else:\n",
    "        return []"
   ]
  },
  {
   "cell_type": "code",
   "execution_count": 47,
   "id": "f5f2942a-af48-48f0-aafb-45f8473686a3",
   "metadata": {},
   "outputs": [
    {
     "name": "stdout",
     "output_type": "stream",
     "text": [
      "Top 10 recommended songs:\n",
      "1. burning my bridges\n",
      "2. hole in your soul\n",
      "3. the winner takes it all\n",
      "4. crazy world\n",
      "5. watch out\n",
      "6. like an angel passing through my room\n",
      "7. ring ring\n",
      "8. fernando (in spanish)\n",
      "9. pick a bale of cotton\n",
      "10. disillusion\n"
     ]
    }
   ],
   "source": [
    "# Example usage:\n",
    "input_criteria = {\n",
    "    # Choose one of the following options:\n",
    "    # 'song_name': 'your_song_name_here',  # Case 1\n",
    "    #'mood': 'your_mood_here',            # Case 2\n",
    "    #'artist': 'your_artist_name_here'     # Case 3\n",
    "    #\"song_name\" : \"the name of the game\"\n",
    "    #\"mood\" : \"sad\"\n",
    "    \"artist\" : \"abba\"\n",
    "}\n",
    "\n",
    "recommended_songs = recommend_songs(df, input_criteria)\n",
    "print(\"Top 10 recommended songs:\")\n",
    "for idx, song in enumerate(recommended_songs, start=1):\n",
    "    print(f\"{idx}. {song}\")"
   ]
  },
  {
   "cell_type": "code",
   "execution_count": null,
   "id": "212221ea-c560-4ab8-8aad-5dc55b0124a7",
   "metadata": {},
   "outputs": [],
   "source": []
  }
 ],
 "metadata": {
  "kernelspec": {
   "display_name": "Python 3 (ipykernel)",
   "language": "python",
   "name": "python3"
  },
  "language_info": {
   "codemirror_mode": {
    "name": "ipython",
    "version": 3
   },
   "file_extension": ".py",
   "mimetype": "text/x-python",
   "name": "python",
   "nbconvert_exporter": "python",
   "pygments_lexer": "ipython3",
   "version": "3.11.7"
  }
 },
 "nbformat": 4,
 "nbformat_minor": 5
}
